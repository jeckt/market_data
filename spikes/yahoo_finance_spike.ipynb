{
 "cells": [
  {
   "cell_type": "code",
   "execution_count": 1,
   "metadata": {},
   "outputs": [],
   "source": [
    "# TODO(steve): build test cases for this functionality spike (TDD method!)"
   ]
  },
  {
   "cell_type": "code",
   "execution_count": 2,
   "metadata": {},
   "outputs": [],
   "source": [
    "import datetime\n",
    "import urllib.request\n",
    "from bs4 import BeautifulSoup\n",
    "\n",
    "class SecurityPriceData:\n",
    "    \n",
    "    def __init__(self, name: str, date: datetime.datetime, open: float, high: float,\n",
    "                 low: float, close: float, adj_close: float, volume: int=0):\n",
    "        self.name = name\n",
    "        self.date = date\n",
    "        self.open = float(open.replace(',', ''))\n",
    "        self.high = float(high.replace(',', ''))\n",
    "        self.low = float(low.replace(',', ''))\n",
    "        self.close = float(close.replace(',', ''))\n",
    "        self.adj_close = float(adj_close.replace(',', ''))\n",
    "        self.volume = int(volume.replace(',', ''))\n",
    "    \n",
    "    def __str__(self):\n",
    "        s = f'name => {self.name}\\n'\n",
    "        s += f'date => {self.date}\\n'\n",
    "        s += f'open => {self.open}\\n'\n",
    "        s += f'high => {self.high}\\n'\n",
    "        s += f'low => {self.low}\\n'\n",
    "        s += f'close => {self.close}\\n'\n",
    "        s += f'adj_close => {self.adj_close}\\n'\n",
    "        s += f'volume => {self.volume}'\n",
    "        return s"
   ]
  },
  {
   "cell_type": "code",
   "execution_count": 3,
   "metadata": {},
   "outputs": [],
   "source": [
    "def get_security_price_data(ticker: str, date: datetime.datetime):\n",
    "    url = r'https://finance.yahoo.com/quote/{ticker}/history?p={ticker}'\n",
    "    req = urllib.request.Request(url.replace('{ticker}', ticker))\n",
    "    with urllib.request.urlopen(req) as response:\n",
    "        the_page = response.read().decode('utf-8')\n",
    "\n",
    "    parsed_html = BeautifulSoup(the_page)\n",
    "    data_table = parsed_html.body.find('table', attrs={'data-test': 'historical-prices'})\n",
    "    data_table = data_table.find('tbody')\n",
    "\n",
    "    # Currently returns the first one in the table\n",
    "    for row in data_table.children:\n",
    "        values = [col.next_element.text for col in row.children if col.find('span')]\n",
    "        values[0] = datetime.datetime.strptime(values[0], '%b %d, %Y')\n",
    "        if values[0] == date:\n",
    "            s = SecurityPriceData(ticker, *values)\n",
    "            return s\n",
    "    \n",
    "    return None"
   ]
  },
  {
   "cell_type": "code",
   "execution_count": 5,
   "metadata": {},
   "outputs": [
    {
     "name": "stdout",
     "output_type": "stream",
     "text": [
      "name => GOOG\n",
      "date => 2019-08-19 00:00:00\n",
      "open => 1190.09\n",
      "high => 1206.99\n",
      "low => 1190.09\n",
      "close => 1198.45\n",
      "adj_close => 1198.45\n",
      "volume => 1231600\n"
     ]
    }
   ],
   "source": [
    "dt = datetime.datetime(2019, 8, 19)\n",
    "s = get_security_price_data('GOOG', dt)\n",
    "print(s)"
   ]
  },
  {
   "cell_type": "code",
   "execution_count": null,
   "metadata": {},
   "outputs": [],
   "source": []
  }
 ],
 "metadata": {
  "kernelspec": {
   "display_name": "Python 3",
   "language": "python",
   "name": "python3"
  },
  "language_info": {
   "codemirror_mode": {
    "name": "ipython",
    "version": 3
   },
   "file_extension": ".py",
   "mimetype": "text/x-python",
   "name": "python",
   "nbconvert_exporter": "python",
   "pygments_lexer": "ipython3",
   "version": "3.6.8"
  }
 },
 "nbformat": 4,
 "nbformat_minor": 2
}
